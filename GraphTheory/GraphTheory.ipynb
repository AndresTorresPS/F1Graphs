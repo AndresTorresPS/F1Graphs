{
 "cells": [
  {
   "cell_type": "markdown",
   "id": "e5f429d1",
   "metadata": {},
   "source": [
    "# Proceso creativo a partir de Graph Theory de Diestel"
   ]
  },
  {
   "cell_type": "markdown",
   "id": "d05e3450",
   "metadata": {},
   "source": [
    "Libro escrito para:\n",
    "\n",
    "- Presentar la teoría de grafos como una disciplina matemática moderna\n",
    "- Cubrir tanto los fundamentos clásicos como los desarrollos recientes y avanzados\n",
    "- Servor tanto como introducción como referencia para investigadores"
   ]
  },
  {
   "cell_type": "markdown",
   "id": "0022099a",
   "metadata": {},
   "source": [
    "## Capítulo 1: Conceptos básicos"
   ]
  },
  {
   "cell_type": "markdown",
   "id": "8cd5d110",
   "metadata": {},
   "source": [
    "1.1. Grafos: \n",
    "- Un grafo es un par de sets V,E\n",
    "- Hablamos de un vértice de G como v ϵ G, y una arista de G como e ϵ G\n",
    "- La cantidad de vértices es el orden del grafo |G|\n",
    "- Grafo vacío Ø, grafo de orden 0 o 1 es trivial\n",
    "- El set de todas las aristas en un vértice es denotado por E(v)\n",
    "- Dos vértices x,y son adyacentes si xy es una arista de G\n",
    "- Si todos los n vértices de G son adyacentes, G es completo K<sup>n</sup>, K<sup>3</sup> es un triángulo\n",
    "- En la teoría de grafos existen las operaciones de conjuntos Unión, Resta e Intersección\n",
    "- Si V' está contenido en V y E' en E, entonces G' es subgrafo de G\n",
    "- Si el subgrafo G' preserva todas las conexiones posibles de G, G' es subgrafo inducido\n",
    "- Si el subgrafo G' tiene todos los vértices de G, G' es subgrafo generador\n",
    "- Si G' es subgrafo inducido y generador de G, G' es G\n",
    "- Un grafo edge-maximal respecto a una propiedad, pierde esa propiedad si se le agrega una arista\n",
    "- Un grafo edge-minimal respecto a una propiedad, pierde esa propiedad si se le quita una arista\n",
    "- K<sup>2</sup> * K<sup>3</sup> = K<sup>5</sup>\n",
    "- El complemento de G, G barra, tiene mismo V que G, pero con todas las conexiones que le faltan a G para ser completo (sin las conexiones de G)\n",
    "- Cada nodo del grafo línea de G, L(G), representa una arista de G\n"
   ]
  },
  {
   "cell_type": "markdown",
   "id": "5c704d56",
   "metadata": {},
   "source": [
    "### Programa que hace operaciones de conjuntos con grafos"
   ]
  },
  {
   "cell_type": "code",
   "execution_count": 2,
   "id": "5b2daec3",
   "metadata": {},
   "outputs": [
    {
     "name": "stdout",
     "output_type": "stream",
     "text": [
      "Operaciones de conjuntos con grafos (usando NetworkX)\n",
      "\n",
      "Introduce una a una las aristas del grafo G1 (formato: nodo1 nodo2). Escribe 'fin' para terminar:\n",
      "\n",
      "Introduce una a una las aristas del grafo G2 (formato: nodo1 nodo2). Escribe 'fin' para terminar:\n",
      "\n",
      "Grafo G1\n",
      "Vértices: ['A', 'B', 'C']\n",
      "Aristas: [('A', 'B'), ('B', 'C')]\n",
      "\n",
      "Grafo G2\n",
      "Vértices: ['B', 'C', 'D']\n",
      "Aristas: [('B', 'C'), ('C', 'D')]\n",
      "\n",
      "No se pueden operar con Diferencia: Node sets of graphs not equal\n",
      "\n",
      "No se pueden operar con Diferencia Simétrica: Node sets of graphs not equal\n",
      "\n",
      "Grafo Unión (G1 U G2)\n",
      "Vértices: ['A', 'B', 'C', 'D']\n",
      "Aristas: [('A', 'B'), ('B', 'C'), ('C', 'D')]\n",
      "\n",
      "Grafo Intersección (G1 ∩ G2)\n",
      "Vértices: ['B', 'C']\n",
      "Aristas: [('C', 'B')]\n",
      "\n",
      "Grafo Diferencia (G1 - G2)\n",
      "Vértices: []\n",
      "Aristas: []\n",
      "\n",
      "Grafo Diferencia simétrica (G1 Δ G2)\n",
      "Vértices: []\n",
      "Aristas: []\n"
     ]
    }
   ],
   "source": [
    "import networkx as nx\n",
    "\n",
    "def read_graph(graph_name):\n",
    "\n",
    "    # Crea un grafo\n",
    "    G = nx.Graph()\n",
    "\n",
    "    # Crea un contador para informar al usuario cuántas aristas ha ingresado\n",
    "    edges = 1\n",
    "\n",
    "    # Proporciona instrucciones para ingresar aristas\n",
    "    print(f\"\\nIntroduce una a una las aristas del grafo {graph_name} (formato: nodo1 nodo2). Escribe 'fin' para terminar:\")\n",
    "\n",
    "    # Ciclo que se ejecuta hasta que usuario ingresa 'fin'\n",
    "    while True:\n",
    "\n",
    "        # Ingreso de aristas por parte del usuario\n",
    "        edge_string = input(f\"Arista {edges} de {graph_name}: \")\n",
    "\n",
    "        # Si el usuario ingresa 'fin', se construye el grafo con las aristas que el usuario ingresó antes de 'fin'\n",
    "        if edge_string.lower() == 'fin':\n",
    "            break\n",
    "\n",
    "        # Añade la arista u,v (nodo1,nodo2) al grafo\n",
    "        try:\n",
    "            u, v = edge_string.strip().split()\n",
    "            G.add_edge(u,v)\n",
    "        except:\n",
    "            print(\"Entrada no válida. Intenta con el formato: nodo1 nodo2\")\n",
    "        \n",
    "        edges += 1\n",
    "\n",
    "    # Devuelve el grafo construido a partir de las aristas ingresadas\n",
    "    return G\n",
    "\n",
    "def print_graph(graph_name, G):\n",
    "    print(f\"\\nGrafo {graph_name}\")\n",
    "    print(f\"Vértices: {sorted(G.nodes)}\")\n",
    "    print(f\"Aristas: {sorted(G.edges)}\")\n",
    "\n",
    "def operate(G1, G2):\n",
    "\n",
    "    U = nx.Graph()\n",
    "    I = nx.Graph()\n",
    "    D = nx.Graph()\n",
    "    DS = nx.Graph()\n",
    "\n",
    "    try:\n",
    "        U = nx.compose(G1, G2)\n",
    "    except Exception as e: \n",
    "        print(f\"\\nNo se pueden operar con Unión: {e}\")\n",
    "\n",
    "    try:\n",
    "        I = nx.intersection(G1, G2)\n",
    "    except Exception as e: \n",
    "        print(f\"\\nNo se pueden operar con Intersección: {e}\")\n",
    "\n",
    "    try:\n",
    "        D = nx.difference(G1, G2)\n",
    "    except Exception as e: \n",
    "        print(f\"\\nNo se pueden operar con Diferencia: {e}\")\n",
    "\n",
    "    try:\n",
    "        DS = nx.symmetric_difference(G1, G2)\n",
    "    except Exception as e: \n",
    "        print(f\"\\nNo se pueden operar con Diferencia Simétrica: {e}\")\n",
    "\n",
    "    return U, I, D, DS\n",
    "\n",
    "def main():\n",
    "    print(\"Operaciones de conjuntos con grafos (usando NetworkX)\")\n",
    "    G1 = read_graph(\"G1\")\n",
    "    G2 = read_graph(\"G2\")\n",
    "\n",
    "    print_graph(\"G1\", G1)\n",
    "    print_graph(\"G2\", G2)\n",
    "\n",
    "    U, I, D, DS = operate(G1,G2)\n",
    "\n",
    "    print_graph(\"Unión (G1 U G2)\", U)\n",
    "    print_graph(\"Intersección (G1 ∩ G2)\", I)\n",
    "    print_graph(\"Diferencia (G1 - G2)\", D)\n",
    "    print_graph(\"Diferencia simétrica (G1 Δ G2)\", DS)\n",
    "\n",
    "if __name__ == \"__main__\":\n",
    "    main()\n"
   ]
  },
  {
   "cell_type": "code",
   "execution_count": null,
   "id": "086ebc59",
   "metadata": {},
   "outputs": [],
   "source": []
  },
  {
   "cell_type": "code",
   "execution_count": null,
   "id": "e801fe42",
   "metadata": {},
   "outputs": [],
   "source": []
  }
 ],
 "metadata": {
  "kernelspec": {
   "display_name": "Python 3",
   "language": "python",
   "name": "python3"
  },
  "language_info": {
   "codemirror_mode": {
    "name": "ipython",
    "version": 3
   },
   "file_extension": ".py",
   "mimetype": "text/x-python",
   "name": "python",
   "nbconvert_exporter": "python",
   "pygments_lexer": "ipython3",
   "version": "3.10.4"
  }
 },
 "nbformat": 4,
 "nbformat_minor": 5
}
